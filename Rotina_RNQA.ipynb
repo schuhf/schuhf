{
 "cells": [
  {
   "cell_type": "markdown",
   "metadata": {},
   "source": [
    "### Tratamento de Dados Qualidade de Água HIDROWEB - RNQA\n",
    "Fluxo Geral\n",
    "1) Encontrar estações desejadas a partir do shape de pontos da RNQA e shapefile da área de interesse\n",
    "2) Obter lista de estações de interesse\n",
    "3) Gera lista de links das estações de interesse0\n",
    "4) Baixar dados do Hidroweb\n",
    "5) A partir de pasta de dados baixados do HIDROWEB, consolida os registros em uma base única"
   ]
  },
  {
   "cell_type": "code",
   "execution_count": 1,
   "metadata": {},
   "outputs": [],
   "source": [
    "import pandas as pd\n",
    "import geopandas as gpd\n",
    "import matplotlib.pyplot as plt"
   ]
  },
  {
   "cell_type": "markdown",
   "metadata": {},
   "source": [
    "### Carregando os Shapefiles de Interesse\n",
    "- Pontos da RNQA em 2020: Catálogo de Metadados da ANA (https://metadados.snirh.gov.br/geonetwork/srv/por/catalog.search#/metadata/7470ba67-b0c1-440c-af4c-e2ac4eadac95)\n",
    "- Área de Interesse: Exemplo - Porção Capixaba da Bacia Hidrográfica do Rio São Mateus (https://metadados.snirh.gov.br/geonetwork/srv/api/records/3c0e0c20-f6ae-4e3b-bb95-b27b61fdbbd8/attachments/plnft_comite_bacia_estadual.zip) "
   ]
  },
  {
   "cell_type": "code",
   "execution_count": 2,
   "metadata": {},
   "outputs": [
    {
     "name": "stdout",
     "output_type": "stream",
     "text": [
      "Os SRC são iguais, podemos continuar!\n"
     ]
    }
   ],
   "source": [
    "## Carregando pontos e área de interesse\n",
    "pontos_rnqa = gpd.read_file('C:/Users/frori/Documents/Quali_ANA/SHP/RNQA_2020_setembro.shp') ## informe onde você salvou o shp da RNQA\n",
    "area_of_interest = gpd.read_file('C:/Users/frori/Documents/Quali_ANA/SHP/SM_ES.shp') ## Informe onde você salvou o shp da sua área de interesse\n",
    "\n",
    "## Verificando se o Sistema de Referência de Coordenadas é compatível!\n",
    "if pontos_rnqa.crs == area_of_interest.crs:\n",
    "    print(\"Os SRC são iguais, podemos continuar!\")\n",
    "else:\n",
    "    pontos_rnqa = pontos_rnqa.to_crs(\"EPSG:4674\")\n",
    "    area_of_interest = area_of_interest.to_crs(\"EPSG:4674\")\n",
    "    print(\"Os SRC eram diferentes, foram reprojetados para SIRGAS 2000 (EPSG: 4674), podemos continuar!\")"
   ]
  },
  {
   "cell_type": "code",
   "execution_count": 3,
   "metadata": {},
   "outputs": [
    {
     "data": {
      "text/plain": [
       "<AxesSubplot:title={'center':'Pontos da RNQA na Área de Interesse (6 pontos)'}>"
      ]
     },
     "execution_count": 3,
     "metadata": {},
     "output_type": "execute_result"
    },
    {
     "data": {
      "image/png": "[encoded data removed]",
      "text/plain": [
       "<Figure size 432x288 with 1 Axes>"
      ]
     },
     "metadata": {
      "needs_background": "light"
     },
     "output_type": "display_data"
    }
   ],
   "source": [
    "## Recortando os pontos dentro da área de interesse\n",
    "pontos_aoi = gpd.clip(pontos_rnqa, area_of_interest)\n",
    "\n",
    "## Exporta o .shp com os pontos recortados\n",
    "pontos_aoi.to_file(driver = 'ESRI Shapefile', filename = 'C:/Users/frori/Documents/Quali_ANA/SHP/Pontos_RNQA_SM_ES.shp') ## informe aqui o caminho e o nome da pasta de destino\n",
    "\n",
    "## Plotando os pontos na área de interesse\n",
    "base = area_of_interest.plot(color = 'white', edgecolor = 'black')\n",
    "point_n = pontos_aoi['Código_Hi'].nunique()\n",
    "base.set_title('Pontos da RNQA na Área de Interesse ({} pontos)'.format(point_n))\n",
    "pontos_aoi.plot(ax = base, marker = 'o', color = 'blue', markersize = 4)"
   ]
  },
  {
   "cell_type": "code",
   "execution_count": 5,
   "metadata": {},
   "outputs": [],
   "source": [
    "## Pegar Códigos do HIDROWEB e exportando tabela com links para baixar\n",
    "pontos_aoi_cods = pontos_aoi['Código_Hi'].astype(int).reset_index()\n",
    "pontos_aoi_cods = pd.DataFrame(pontos_aoi_cods)\n",
    "pontos_aoi_cods.columns = ['id','cod_ana']\n",
    "pontos_aoi_cods['link'] = 'https://www.snirh.gov.br/hidroweb/serieshistoricas?codigoEstacao=' + pontos_aoi_cods['cod_ana'].astype(str)\n",
    "pontos_aoi_cods.to_csv('C:/Users/frori/Documents/Quali_ANA/pontos_aoi_cods.csv') ## INFORME A PASTA DE DESTINO DOS LINKS"
   ]
  },
  {
   "cell_type": "markdown",
   "metadata": {},
   "source": [
    "### Agora vamos baixar os dados do portal da ANA\n",
    "\n",
    "- O script criado é baseado no driver do Mozilla Firefox com base no pacote selenium (https://selenium-python.readthedocs.io/)\n",
    "- É importante definir a pasta de download do Mozilla (no próprio Mozilla) como a pasta desejada para os dados baixados de qualidade de água\n",
    "- Também é importante que você insira o documento \"geckodriver.exe\" na pasta onde seu interpretador de Python está salvo (no meu caso, o conda). Esse documento pode ser baixado em: https://github.com/mozilla/geckodriver/releases"
   ]
  },
  {
   "cell_type": "code",
   "execution_count": 20,
   "metadata": {},
   "outputs": [
    {
     "ename": "MoveTargetOutOfBoundsException",
     "evalue": "Message: (796, 933) is out of bounds of viewport width (1284) and height (884)\nStacktrace:\nRemoteError@chrome://remote/content/shared/RemoteError.jsm:12:1\nWebDriverError@chrome://remote/content/shared/webdriver/Errors.jsm:192:5\nMoveTargetOutOfBoundsError@chrome://remote/content/shared/webdriver/Errors.jsm:382:5\nassertInViewPort@chrome://remote/content/marionette/action.js:1946:11\ndispatch@chrome://remote/content/marionette/action.js:1000:21\ndispatch/pendingEvents<@chrome://remote/content/marionette/action.js:1691:14\ndispatch@chrome://remote/content/marionette/action.js:1690:39\ndispatch/chainEvents<@chrome://remote/content/marionette/action.js:1617:27\ndispatch@chrome://remote/content/marionette/action.js:1619:7\nperformActions@chrome://remote/content/marionette/actors/MarionetteCommandsChild.jsm:468:23\nreceiveMessage@chrome://remote/content/marionette/actors/MarionetteCommandsChild.jsm:145:31\n",
     "output_type": "error",
     "traceback": [
      "\u001b[1;31m---------------------------------------------------------------------------\u001b[0m",
      "\u001b[1;31mMoveTargetOutOfBoundsException\u001b[0m            Traceback (most recent call last)",
      "\u001b[1;32m<ipython-input-20-bb8963ae0fe0>\u001b[0m in \u001b[0;36m<module>\u001b[1;34m\u001b[0m\n\u001b[0;32m     31\u001b[0m     \u001b[0maction\u001b[0m\u001b[1;33m.\u001b[0m\u001b[0mclick\u001b[0m\u001b[1;33m(\u001b[0m\u001b[0mon_element\u001b[0m \u001b[1;33m=\u001b[0m \u001b[0mcheckbox2\u001b[0m\u001b[1;33m)\u001b[0m\u001b[1;33m\u001b[0m\u001b[1;33m\u001b[0m\u001b[0m\n\u001b[0;32m     32\u001b[0m     \u001b[1;31m# perform the operation\u001b[0m\u001b[1;33m\u001b[0m\u001b[1;33m\u001b[0m\u001b[1;33m\u001b[0m\u001b[0m\n\u001b[1;32m---> 33\u001b[1;33m     \u001b[0maction\u001b[0m\u001b[1;33m.\u001b[0m\u001b[0mperform\u001b[0m\u001b[1;33m(\u001b[0m\u001b[1;33m)\u001b[0m\u001b[1;33m\u001b[0m\u001b[1;33m\u001b[0m\u001b[0m\n\u001b[0m\u001b[0;32m     34\u001b[0m \u001b[1;33m\u001b[0m\u001b[0m\n\u001b[0;32m     35\u001b[0m     \u001b[1;31m## get checkbox element\u001b[0m\u001b[1;33m\u001b[0m\u001b[1;33m\u001b[0m\u001b[1;33m\u001b[0m\u001b[0m\n",
      "\u001b[1;32mc:\\Users\\frori\\Documents\\conda\\lib\\site-packages\\selenium\\webdriver\\common\\action_chains.py\u001b[0m in \u001b[0;36mperform\u001b[1;34m(self)\u001b[0m\n\u001b[0;32m     76\u001b[0m         \u001b[0mPerforms\u001b[0m \u001b[0mall\u001b[0m \u001b[0mstored\u001b[0m \u001b[0mactions\u001b[0m\u001b[1;33m.\u001b[0m\u001b[1;33m\u001b[0m\u001b[1;33m\u001b[0m\u001b[0m\n\u001b[0;32m     77\u001b[0m         \"\"\"\n\u001b[1;32m---> 78\u001b[1;33m         \u001b[0mself\u001b[0m\u001b[1;33m.\u001b[0m\u001b[0mw3c_actions\u001b[0m\u001b[1;33m.\u001b[0m\u001b[0mperform\u001b[0m\u001b[1;33m(\u001b[0m\u001b[1;33m)\u001b[0m\u001b[1;33m\u001b[0m\u001b[1;33m\u001b[0m\u001b[0m\n\u001b[0m\u001b[0;32m     79\u001b[0m \u001b[1;33m\u001b[0m\u001b[0m\n\u001b[0;32m     80\u001b[0m     \u001b[1;32mdef\u001b[0m \u001b[0mreset_actions\u001b[0m\u001b[1;33m(\u001b[0m\u001b[0mself\u001b[0m\u001b[1;33m)\u001b[0m\u001b[1;33m:\u001b[0m\u001b[1;33m\u001b[0m\u001b[1;33m\u001b[0m\u001b[0m\n",
      "\u001b[1;32mc:\\Users\\frori\\Documents\\conda\\lib\\site-packages\\selenium\\webdriver\\common\\actions\\action_builder.py\u001b[0m in \u001b[0;36mperform\u001b[1;34m(self)\u001b[0m\n\u001b[0;32m     86\u001b[0m                 \u001b[0menc\u001b[0m\u001b[1;33m[\u001b[0m\u001b[1;34m\"actions\"\u001b[0m\u001b[1;33m]\u001b[0m\u001b[1;33m.\u001b[0m\u001b[0mappend\u001b[0m\u001b[1;33m(\u001b[0m\u001b[0mencoded\u001b[0m\u001b[1;33m)\u001b[0m\u001b[1;33m\u001b[0m\u001b[1;33m\u001b[0m\u001b[0m\n\u001b[0;32m     87\u001b[0m                 \u001b[0mdevice\u001b[0m\u001b[1;33m.\u001b[0m\u001b[0mactions\u001b[0m \u001b[1;33m=\u001b[0m \u001b[1;33m[\u001b[0m\u001b[1;33m]\u001b[0m\u001b[1;33m\u001b[0m\u001b[1;33m\u001b[0m\u001b[0m\n\u001b[1;32m---> 88\u001b[1;33m         \u001b[0mself\u001b[0m\u001b[1;33m.\u001b[0m\u001b[0mdriver\u001b[0m\u001b[1;33m.\u001b[0m\u001b[0mexecute\u001b[0m\u001b[1;33m(\u001b[0m\u001b[0mCommand\u001b[0m\u001b[1;33m.\u001b[0m\u001b[0mW3C_ACTIONS\u001b[0m\u001b[1;33m,\u001b[0m \u001b[0menc\u001b[0m\u001b[1;33m)\u001b[0m\u001b[1;33m\u001b[0m\u001b[1;33m\u001b[0m\u001b[0m\n\u001b[0m\u001b[0;32m     89\u001b[0m \u001b[1;33m\u001b[0m\u001b[0m\n\u001b[0;32m     90\u001b[0m     \u001b[1;32mdef\u001b[0m \u001b[0mclear_actions\u001b[0m\u001b[1;33m(\u001b[0m\u001b[0mself\u001b[0m\u001b[1;33m)\u001b[0m \u001b[1;33m->\u001b[0m \u001b[1;32mNone\u001b[0m\u001b[1;33m:\u001b[0m\u001b[1;33m\u001b[0m\u001b[1;33m\u001b[0m\u001b[0m\n",
      "\u001b[1;32mc:\\Users\\frori\\Documents\\conda\\lib\\site-packages\\selenium\\webdriver\\remote\\webdriver.py\u001b[0m in \u001b[0;36mexecute\u001b[1;34m(self, driver_command, params)\u001b[0m\n\u001b[0;32m    426\u001b[0m         \u001b[0mresponse\u001b[0m \u001b[1;33m=\u001b[0m \u001b[0mself\u001b[0m\u001b[1;33m.\u001b[0m\u001b[0mcommand_executor\u001b[0m\u001b[1;33m.\u001b[0m\u001b[0mexecute\u001b[0m\u001b[1;33m(\u001b[0m\u001b[0mdriver_command\u001b[0m\u001b[1;33m,\u001b[0m \u001b[0mparams\u001b[0m\u001b[1;33m)\u001b[0m\u001b[1;33m\u001b[0m\u001b[1;33m\u001b[0m\u001b[0m\n\u001b[0;32m    427\u001b[0m         \u001b[1;32mif\u001b[0m \u001b[0mresponse\u001b[0m\u001b[1;33m:\u001b[0m\u001b[1;33m\u001b[0m\u001b[1;33m\u001b[0m\u001b[0m\n\u001b[1;32m--> 428\u001b[1;33m             \u001b[0mself\u001b[0m\u001b[1;33m.\u001b[0m\u001b[0merror_handler\u001b[0m\u001b[1;33m.\u001b[0m\u001b[0mcheck_response\u001b[0m\u001b[1;33m(\u001b[0m\u001b[0mresponse\u001b[0m\u001b[1;33m)\u001b[0m\u001b[1;33m\u001b[0m\u001b[1;33m\u001b[0m\u001b[0m\n\u001b[0m\u001b[0;32m    429\u001b[0m             response['value'] = self._unwrap_value(\n\u001b[0;32m    430\u001b[0m                 response.get('value', None))\n",
      "\u001b[1;32mc:\\Users\\frori\\Documents\\conda\\lib\\site-packages\\selenium\\webdriver\\remote\\errorhandler.py\u001b[0m in \u001b[0;36mcheck_response\u001b[1;34m(self, response)\u001b[0m\n\u001b[0;32m    241\u001b[0m                 \u001b[0malert_text\u001b[0m \u001b[1;33m=\u001b[0m \u001b[0mvalue\u001b[0m\u001b[1;33m[\u001b[0m\u001b[1;34m'alert'\u001b[0m\u001b[1;33m]\u001b[0m\u001b[1;33m.\u001b[0m\u001b[0mget\u001b[0m\u001b[1;33m(\u001b[0m\u001b[1;34m'text'\u001b[0m\u001b[1;33m)\u001b[0m\u001b[1;33m\u001b[0m\u001b[1;33m\u001b[0m\u001b[0m\n\u001b[0;32m    242\u001b[0m             \u001b[1;32mraise\u001b[0m \u001b[0mexception_class\u001b[0m\u001b[1;33m(\u001b[0m\u001b[0mmessage\u001b[0m\u001b[1;33m,\u001b[0m \u001b[0mscreen\u001b[0m\u001b[1;33m,\u001b[0m \u001b[0mstacktrace\u001b[0m\u001b[1;33m,\u001b[0m \u001b[0malert_text\u001b[0m\u001b[1;33m)\u001b[0m  \u001b[1;31m# type: ignore[call-arg]  # mypy is not smart enough here\u001b[0m\u001b[1;33m\u001b[0m\u001b[1;33m\u001b[0m\u001b[0m\n\u001b[1;32m--> 243\u001b[1;33m         \u001b[1;32mraise\u001b[0m \u001b[0mexception_class\u001b[0m\u001b[1;33m(\u001b[0m\u001b[0mmessage\u001b[0m\u001b[1;33m,\u001b[0m \u001b[0mscreen\u001b[0m\u001b[1;33m,\u001b[0m \u001b[0mstacktrace\u001b[0m\u001b[1;33m)\u001b[0m\u001b[1;33m\u001b[0m\u001b[1;33m\u001b[0m\u001b[0m\n\u001b[0m",
      "\u001b[1;31mMoveTargetOutOfBoundsException\u001b[0m: Message: (796, 933) is out of bounds of viewport width (1284) and height (884)\nStacktrace:\nRemoteError@chrome://remote/content/shared/RemoteError.jsm:12:1\nWebDriverError@chrome://remote/content/shared/webdriver/Errors.jsm:192:5\nMoveTargetOutOfBoundsError@chrome://remote/content/shared/webdriver/Errors.jsm:382:5\nassertInViewPort@chrome://remote/content/marionette/action.js:1946:11\ndispatch@chrome://remote/content/marionette/action.js:1000:21\ndispatch/pendingEvents<@chrome://remote/content/marionette/action.js:1691:14\ndispatch@chrome://remote/content/marionette/action.js:1690:39\ndispatch/chainEvents<@chrome://remote/content/marionette/action.js:1617:27\ndispatch@chrome://remote/content/marionette/action.js:1619:7\nperformActions@chrome://remote/content/marionette/actors/MarionetteCommandsChild.jsm:468:23\nreceiveMessage@chrome://remote/content/marionette/actors/MarionetteCommandsChild.jsm:145:31\n"
     ]
    }
   ],
   "source": [
    "## Pega a coluna de urls da ANA e cria uma lista para iterar\n",
    "url_listed = list(pontos_aoi_cods['link'])\n",
    "\n",
    "# Carrega Pacotes Necessários\n",
    "from selenium import webdriver\n",
    "from selenium.webdriver.common.action_chains import ActionChains\n",
    "from selenium.webdriver.firefox.service import Service \n",
    "\n",
    "## Itera o download sobre a lista de estações de monitoramento de qualidade\n",
    "for url in url_listed:\n",
    "# Cria o driver na url de destino \n",
    "    driver = webdriver.Firefox(service = Service(r'C:\\Users\\frori\\Documents\\conda\\geckodriver.exe')) ## informe a pasta onde está o arquivo do geckodriver.exe\n",
    "    driver.get(url)\n",
    "    \n",
    "    ### Abaixo, executa as ações dentro do site da ANA \n",
    "    \n",
    "    ## get checkbox element\n",
    "    checkbox1 = driver.find_element(\"id\",\"mat-checkbox-1\")\n",
    "    # create action chain object\n",
    "    action = ActionChains(driver)\n",
    "    # click the item\n",
    "    action.click(on_element = checkbox1)\n",
    "    # perform the operation\n",
    "    action.perform()\n",
    "\n",
    "    ## get checkbox element\n",
    "    checkbox2 = driver.find_element(\"id\",\"mat-radio-4\")\n",
    "    # create action chain object\n",
    "    action = ActionChains(driver)\n",
    "    # click the item\n",
    "    action.click(on_element = checkbox2)\n",
    "    # perform the operation\n",
    "    action.perform()\n",
    "\n",
    "    ## get checkbox element\n",
    "    download_button = driver.find_element(\"partial link text\", \"Baixar Arquivo\")\n",
    "    # create action chain object\n",
    "    action = ActionChains(driver)\n",
    "    # click the item\n",
    "    action.click(on_element = download_button)\n",
    "    # perform the operation\n",
    "    action.perform()\n"
   ]
  },
  {
   "cell_type": "code",
   "execution_count": 16,
   "metadata": {},
   "outputs": [],
   "source": [
    "### Carrega os arquivos na Pasta de downloads do Mozilla e os descompacta\n",
    "import os\n",
    "import glob\n",
    "import zipfile\n",
    "\n",
    "dir_name = r\"C:/Users/frori/Documents/Quali_ANA/DATA\" ## Aqui é importante definir a pasta configurada no Mozilla para salvar os dados\n",
    "extension = \".zip\"\n",
    "\n",
    "# Primeira Descompactação\n",
    "\n",
    "for item in os.listdir(dir_name): # loop through items in dir\n",
    "    if item.endswith(extension): # check for \".zip\" extension\n",
    "        file_name = dir_name + \"/\" + item # get full path of files\n",
    "        zip_ref = zipfile.ZipFile(file_name) # create zipfile object\n",
    "        zip_ref.extractall(dir_name) # extract file to dir\n",
    "        zip_ref.close() # close file\n",
    "        os.remove(file_name) # delete zipped file\n",
    "      \n",
    "# Segunda Descompactação  \n",
    "for item in os.listdir(dir_name): # loop through items in dir\n",
    "    if item.endswith(extension): # check for \".zip\" extension\n",
    "        file_name = dir_name + \"/\" + item # get full path of files\n",
    "        zip_ref = zipfile.ZipFile(file_name) # create zipfile object\n",
    "        zip_ref.extractall(dir_name) # extract file to dir\n",
    "        zip_ref.close() # close file\n",
    "        os.remove(file_name) # delete zipped file"
   ]
  },
  {
   "cell_type": "markdown",
   "metadata": {},
   "source": [
    "### Agora vamos abrir os dados da ANA baixados através dos dados baixados acima\n",
    "- Informar a pasta com os dados\n",
    "- Abrir os dataframes em uma lista\n",
    "- Tratar cada um dos dataframes (função)\n",
    "- Juntar em um só dataframe\n",
    "- Estatísticas Descritivas"
   ]
  },
  {
   "cell_type": "code",
   "execution_count": 18,
   "metadata": {},
   "outputs": [],
   "source": [
    "## pegar todos os arquivos .csv da pasta\n",
    "dir_name = r\"C:/Users/frori/Documents/Quali_ANA/DATA\"\n",
    "csv_files = glob.glob(os.path.join(dir_name, '*.csv'))\n",
    "\n",
    "## seleciona dados de qualidade (caso estação também tenha dados de vazão)\n",
    "csv_files_qual = []\n",
    "for file in csv_files:\n",
    "    len_file = len(file)\n",
    "    if file[len_file - 23:len_file - 15] == 'qualagua':\n",
    "        csv_files_qual.append(file)"
   ]
  },
  {
   "cell_type": "code",
   "execution_count": 19,
   "metadata": {},
   "outputs": [
    {
     "data": {
      "text/html": [
       "<div>\n",
       "<style scoped>\n",
       "    .dataframe tbody tr th:only-of-type {\n",
       "        vertical-align: middle;\n",
       "    }\n",
       "\n",
       "    .dataframe tbody tr th {\n",
       "        vertical-align: top;\n",
       "    }\n",
       "\n",
       "    .dataframe thead th {\n",
       "        text-align: right;\n",
       "    }\n",
       "</style>\n",
       "<table border=\"1\" class=\"dataframe\">\n",
       "  <thead>\n",
       "    <tr style=\"text-align: right;\">\n",
       "      <th></th>\n",
       "      <th>index</th>\n",
       "      <th>EstacaoCodigo</th>\n",
       "      <th>Data</th>\n",
       "      <th>Choveu</th>\n",
       "      <th>parametros</th>\n",
       "      <th>concentracoes</th>\n",
       "    </tr>\n",
       "  </thead>\n",
       "  <tbody>\n",
       "    <tr>\n",
       "      <th>0</th>\n",
       "      <td>0</td>\n",
       "      <td>55860000</td>\n",
       "      <td>2020-06-01</td>\n",
       "      <td>S</td>\n",
       "      <td>TempAr</td>\n",
       "      <td>25.299999</td>\n",
       "    </tr>\n",
       "    <tr>\n",
       "      <th>1</th>\n",
       "      <td>1</td>\n",
       "      <td>55860000</td>\n",
       "      <td>2019-07-10</td>\n",
       "      <td>S</td>\n",
       "      <td>TempAr</td>\n",
       "      <td>30.299999</td>\n",
       "    </tr>\n",
       "    <tr>\n",
       "      <th>2</th>\n",
       "      <td>2</td>\n",
       "      <td>55860000</td>\n",
       "      <td>2019-01-07</td>\n",
       "      <td>S</td>\n",
       "      <td>TempAr</td>\n",
       "      <td>29.000000</td>\n",
       "    </tr>\n",
       "    <tr>\n",
       "      <th>3</th>\n",
       "      <td>3</td>\n",
       "      <td>55860000</td>\n",
       "      <td>2019-01-04</td>\n",
       "      <td>N</td>\n",
       "      <td>TempAr</td>\n",
       "      <td>31.000000</td>\n",
       "    </tr>\n",
       "    <tr>\n",
       "      <th>4</th>\n",
       "      <td>4</td>\n",
       "      <td>55860000</td>\n",
       "      <td>2019-07-01</td>\n",
       "      <td>N</td>\n",
       "      <td>TempAr</td>\n",
       "      <td>35.000000</td>\n",
       "    </tr>\n",
       "  </tbody>\n",
       "</table>\n",
       "</div>"
      ],
      "text/plain": [
       "   index EstacaoCodigo       Data Choveu parametros  concentracoes\n",
       "0      0      55860000 2020-06-01      S     TempAr      25.299999\n",
       "1      1      55860000 2019-07-10      S     TempAr      30.299999\n",
       "2      2      55860000 2019-01-07      S     TempAr      29.000000\n",
       "3      3      55860000 2019-01-04      N     TempAr      31.000000\n",
       "4      4      55860000 2019-07-01      N     TempAr      35.000000"
      ]
     },
     "execution_count": 19,
     "metadata": {},
     "output_type": "execute_result"
    }
   ],
   "source": [
    "## Carrega, trata e combina os dados\n",
    "df_list = list()\n",
    "\n",
    "## Itera o tratamento de dados sobre as bases baixadas\n",
    "for file in csv_files_qual:\n",
    "    ## Carregar dados\n",
    "    df = pd.read_csv(file, sep = ';', skiprows = 14, decimal = '.', index_col = False)\n",
    "    df = df[df.columns.drop(list(df.filter(regex = 'QualAgua')))]\n",
    "    df = df[df.columns.drop(list(df.filter(regex = 'Parametro')))].reset_index()\n",
    "    df = df.drop(['Hora','NumMedicao','PosHorizColeta','PosVertColeta','Profundidade','NivelConsistencia'], axis = 1)\n",
    "    \n",
    "    ## Tratamento de dados\n",
    "    df['Choveu'] = df['Choveu'].replace('0,0','N').replace('1,0','S')\n",
    "    df['EstacaoCodigo'] = df['EstacaoCodigo'].round(decimals = 0).astype('str')\n",
    "    df['Data'] = pd.to_datetime(df['Data'])\n",
    "\n",
    "    ## Combinar coluna de parâmetros\n",
    "    df = pd.melt(df, id_vars = df.columns[0:4], value_vars = df.columns[4:df.columns.size-1], var_name = 'parametros',value_name = 'concentracoes')\n",
    "    df['concentracoes'] = df['concentracoes'].str.replace(',','.').astype('float32')\n",
    "    df_list.append(df)\n",
    "\n",
    "## Concatena tudo em uma base\n",
    "df_estacoes = pd.concat(df_list, axis=0)\n",
    "\n",
    "## Exporta base para uma planilha (.csv)\n",
    "df_estacoes.to_csv(r\"C:/Users/frori/Documents/Quali_ANA/dados_quali_bacia.csv\")\n",
    "\n",
    "## Mostra o resultado\n",
    "df_estacoes.head()"
   ]
  },
  {
   "cell_type": "code",
   "execution_count": null,
   "metadata": {},
   "outputs": [],
   "source": []
  },
  {
   "cell_type": "markdown",
   "metadata": {},
   "source": []
  }
 ],
 "metadata": {
  "kernelspec": {
   "display_name": "Python 3.8.5 ('base')",
   "language": "python",
   "name": "python3"
  },
  "language_info": {
   "codemirror_mode": {
    "name": "ipython",
    "version": 3
   },
   "file_extension": ".py",
   "mimetype": "text/x-python",
   "name": "python",
   "nbconvert_exporter": "python",
   "pygments_lexer": "ipython3",
   "version": "3.8.5"
  },
  "orig_nbformat": 4,
  "vscode": {
   "interpreter": {
    "hash": "ca15c49cbbe9d905c4f2cb228c5878276498ba2e0179be24be7579a0cf1e6a9d"
   }
  }
 },
 "nbformat": 4,
 "nbformat_minor": 2
}
