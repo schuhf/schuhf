{
  "nbformat": 4,
  "nbformat_minor": 0,
  "metadata": {
    "colab": {
      "provenance": [],
      "toc_visible": true,
      "authorship_tag": "ABX9TyPCbGm7vh+I2MGhofsaRIsw",
      "include_colab_link": true
    },
    "kernelspec": {
      "name": "python3",
      "display_name": "Python 3"
    },
    "language_info": {
      "name": "python"
    }
  },
  "cells": [
    {
      "cell_type": "markdown",
      "metadata": {
        "id": "view-in-github",
        "colab_type": "text"
      },
      "source": [
        "<a href=\"https://colab.research.google.com/github/schuhf/schuhf/blob/main/gif_usodosolo.ipynb\" target=\"_parent\"><img src=\"https://colab.research.google.com/assets/colab-badge.svg\" alt=\"Open In Colab\"/></a>"
      ]
    },
    {
      "cell_type": "markdown",
      "source": [
        "# GIF com transição do uso de solo entre 1985 e 2021 usando dados do MAPBIOMAS\n",
        "\n",
        "Autor: Fernando Schuh Rörig\n",
        "\n",
        "Engenheiro Ambiental\n",
        "\n",
        "Doutorando em Geociências na USP\n",
        "\n",
        "Linkedin: https://www.linkedin.com/in/fernando-schuh-r%C3%B6rig-a634ba168/\n"
      ],
      "metadata": {
        "id": "_N9avVdijrwT"
      }
    },
    {
      "cell_type": "markdown",
      "source": [
        "## 1. Inicializando"
      ],
      "metadata": {
        "id": "EaLmCRnDj2XN"
      }
    },
    {
      "cell_type": "code",
      "source": [
        "## instalando pacotes necessários ao colab (não nativos)\n",
        "!pip install geemap\n",
        "!pip install geopandas\n",
        "!pip install plotnine\n",
        "!pip install mizani\n",
        "!pip install datar\n",
        "!pip install imageio\n",
        "!pip install fiona\n",
        "!pip install rasterio\n",
        "!pip install gdal\n",
        "!pip install opencv-python"
      ],
      "metadata": {
        "id": "lTOkq0NTM-09"
      },
      "execution_count": null,
      "outputs": []
    },
    {
      "cell_type": "code",
      "execution_count": 2,
      "metadata": {
        "id": "5ScmhJ7tMp5J"
      },
      "outputs": [],
      "source": [
        "## carregando os pacotes (depois de terminar o código, gosto de juntar tudo aqui para deixar mais limpo)\n",
        "\n",
        "## pacotes para abrir arquivos\n",
        "from google.colab import drive\n",
        "import os\n",
        "import glob\n",
        "\n",
        "## pacotes para análise geoespacial\n",
        "import ee\n",
        "import geemap\n",
        "import gdal\n",
        "import geopandas\n",
        "\n",
        "## pacotes para trabalhar com os dados\n",
        "import pandas as pd\n",
        "import numpy as np\n",
        "\n",
        "## pacotes para visualização de dados\n",
        "from plotnine import *\n",
        "from mizani.formatters import percent_format\n",
        "import matplotlib\n",
        "import matplotlib.pyplot as plt\n",
        "from matplotlib.colors import ListedColormap\n",
        "from matplotlib.gridspec import GridSpec\n",
        "\n",
        "## pacotes para trabalhar com imagens\n",
        "import imageio\n",
        "import cv2"
      ]
    },
    {
      "cell_type": "code",
      "source": [
        "# Autenticar a plataforma Google Earth Engine (GEE)\n",
        "ee.Authenticate()\n",
        "\n",
        "# Inicializar o GEE\n",
        "ee.Initialize()"
      ],
      "metadata": {
        "id": "CGxez5mBMqzX"
      },
      "execution_count": null,
      "outputs": []
    },
    {
      "cell_type": "code",
      "source": [
        "# Conectar com o google drive\n",
        "drive.mount('/content/drive', force_remount = True)"
      ],
      "metadata": {
        "colab": {
          "base_uri": "https://localhost:8080/"
        },
        "id": "zjk0ctTHerEW",
        "outputId": "15c4f96a-8d2e-4361-9d83-af9c6c56f2c5"
      },
      "execution_count": 4,
      "outputs": [
        {
          "output_type": "stream",
          "name": "stdout",
          "text": [
            "Mounted at /content/drive\n"
          ]
        }
      ]
    },
    {
      "cell_type": "code",
      "source": [
        "## Abrir o shapefile da área de estudo\n",
        "area_estudo = geemap.shp_to_ee('/content/drive/MyDrive/SACRE/SIG/Area Estudo/Area_Estudo_Ret.shp')"
      ],
      "metadata": {
        "id": "5hg-mGKpexLE"
      },
      "execution_count": 5,
      "outputs": []
    },
    {
      "cell_type": "code",
      "source": [
        "## Criando lista dos anos de interesse\n",
        "anos_list = list(range(1985,2022)) ## lista de anos: 1985 = ano inicial e 2022 = ano final + 1 (vamos usar essa lista em mais iterações futuras)\n",
        "\n",
        "class_anos_list = ['classification_' + str(ano) for ano in anos_list] ## lista para seleção\n",
        "\n",
        "lista_ee_images = [] ## lista vazia para iterar\n",
        "\n",
        "### Abrindo dados da Coleção 7.0 do MAPBIOMAS (mais informações em: https://mapbiomas.org/produtos)\n",
        "for ano_class in class_anos_list:\n",
        "  image = ee.Image('projects/mapbiomas-workspace/public/collection7/mapbiomas_collection70_integration_v2').select(ano_class)\n",
        "  lista_ee_images.append(image)"
      ],
      "metadata": {
        "id": "7ULiznH5i4Do"
      },
      "execution_count": 6,
      "outputs": []
    },
    {
      "cell_type": "markdown",
      "source": [
        "## 2. Estatística zonal\n",
        "\n",
        "Aqui vamos calcular a área estimada para cada classe de uso do solo da Coleção 7.0 do MAPBIOMAS (a legenda completa e a descrição de cada classe está disponível em: https://mapbiomas.org/codigos-de-legenda)"
      ],
      "metadata": {
        "id": "Mfk-aiPoj_ND"
      }
    },
    {
      "cell_type": "code",
      "source": [
        "## Extraindo os dados pelo shape\n",
        "\n",
        "## selecionando pasta para salvar estatísticas\n",
        "out_dir = os.path.expanduser('/content/drive/MyDrive/SACRE/SIG/Landcover')\n",
        "\n",
        "aoi_stats_paths = ['aoi' + str(ano) + 'lc_stats.csv' for ano in anos_list]\n",
        "\n",
        "## calculando estatísticas para cada ano\n",
        "for image, path in zip(lista_ee_images, aoi_stats_paths):\n",
        "  aoi_stats = os.path.join(out_dir, path)\n",
        "\n",
        "  ## garantindo que diretório de exportação irá existir\n",
        "  if not os.path.exists(out_dir):\n",
        "      os.makedirs(out_dir)\n",
        "      \n",
        "  ### Calculando a área em km²\n",
        "  df = geemap.zonal_statistics_by_group(image, area_estudo, aoi_stats, statistics_type = 'SUM', denominator = 1000000, decimal_places = 2)"
      ],
      "metadata": {
        "id": "UVs_rqxzNuWa"
      },
      "execution_count": null,
      "outputs": []
    },
    {
      "cell_type": "code",
      "source": [
        "### Inserção do nome da classe\n",
        "dicionario_classes = {\n",
        "    0:\"Fora da área de interesse\",\n",
        "    1:\"Floresta\",\n",
        "    3:\"Formação Florestal\",\n",
        "    4:\"Formação Savânica\",\n",
        "    5:\"Mangue\",\n",
        "    49:\"Restinga Arborizada\",\n",
        "    10:\"Formação Natural não Florestal\",\n",
        "    11:\"Campo Alagado e Área Pantanosa\",\n",
        "    12:\"Formação Campestre\",\n",
        "    32:\"Apicum\",\n",
        "    29:\"Afloramento Rochoso\",\n",
        "    50:\"Restinga Herbácea\",\n",
        "    13:\"Outras Formações não Florestais\",\n",
        "    14:\"Agropecuária\",\n",
        "    15:\"Pastagem\",\n",
        "    18:\"Agricultura\",\n",
        "    19:\"Lavoura Temporária\",\n",
        "    39:\"Soja\",\n",
        "    20:\"Cana\",\n",
        "    40:\"Arroz (beta)\",\n",
        "    62:\"Algodão (beta)\",\n",
        "    41:\"Outras Lavouras Temporárias\",\n",
        "    36:\"Lavoura Perene\",\n",
        "    46:\"Café\",\n",
        "    47:\"Citrus\",\n",
        "    48:\"Outras Lavouras Perenes\",\n",
        "    9:\"Silvicultura\",\n",
        "    21:\"Mosaico de Usos\",\n",
        "    22:\"Área não Vegetada\",\n",
        "    23:\"Praia, Duna e Areal\",\n",
        "    24:\"Área Urbanizada\",\n",
        "    30:\"Mineração\",\n",
        "    25:\"Outras Áreas não Vegetadas\",\n",
        "    26:\"Corpo D'água\",\n",
        "    33:\"Rio, Lago e Oceano\",\n",
        "    31:\"Aquicultura\",\n",
        "    27:\"Não observado\"\n",
        "}\n",
        "\n",
        "### Inserção das cores de legenda\n",
        "dicionario_cores = {\n",
        "    0:\"white\",\n",
        "    1:\"#129912\",\n",
        "    3:\"#006400\",\n",
        "    4:\"#00ff00\",\n",
        "    5:\"#687537\",\n",
        "    49:\"#6b9932\",\n",
        "    10:\"#bbfcac\",\n",
        "    11:\"#45c2a5\",\n",
        "    12:\"#b8af4f\",\n",
        "    32:\"#968c46\",\n",
        "    29:\"#ff8C00\",\n",
        "    50:\"#66ffcc\",\n",
        "    13:\"#bdb76b\",\n",
        "    14:\"#ffffb2\",\n",
        "    15:\"#ffd966\",\n",
        "    18:\"#e974ed\",\n",
        "    19:\"#d5a6bd\",\n",
        "    39:\"#c59ff4\",\n",
        "    20:\"#c27ba0\",\n",
        "    40:\"#982c9e\",\n",
        "    62:\"#660066\",\n",
        "    41:\"#e787f8\",\n",
        "    36:\"#f3b4f1\",\n",
        "    46:\"#cca0d4\",\n",
        "    47:\"#d082de\",\n",
        "    48:\"#cd49e4\",\n",
        "    9:\"#935132\",\n",
        "    21:\"#fff3bf\",\n",
        "    22:\"#ea9999\",\n",
        "    23:\"#dd7e6b\",\n",
        "    24:\"#af2a2a\",\n",
        "    30:\"#8a2be2\",\n",
        "    25:\"#ff99ff\",\n",
        "    26:\"#0000ff\",\n",
        "    33:\"#0000ff\",\n",
        "    31:\"#29eee4\",\n",
        "    27:\"#D5D5E5\"\n",
        "}\n",
        "\n",
        "## paleta\n",
        "paleta_nomes = {key:value for key, value in zip(dicionario_classes.values(), dicionario_cores.values())}"
      ],
      "metadata": {
        "id": "-nuQ47nerPcv"
      },
      "execution_count": 9,
      "outputs": []
    },
    {
      "cell_type": "code",
      "source": [
        "## Abrindo os dfs das estatísticas zonais\n",
        "path = '/content/drive/MyDrive/SACRE/SIG/Landcover'\n",
        "\n",
        "dfs_files = glob.glob(os.path.join(path, '*.csv'))\n",
        "\n",
        "df_list = [] ## lista vazia para iterar\n",
        "\n",
        "for file_path, ano in zip(dfs_files, anos_list):\n",
        "\n",
        "    df = pd.read_csv(file_path, encoding = 'latin-1') ## carrega o dataframe\n",
        "\n",
        "    ## ajustando colunas do df\n",
        "    df = df.drop('Class_sum', axis = 1)\n",
        "    filter_col_class = [col for col in df if col.startswith('Class')]\n",
        "    df = df[filter_col_class]\n",
        "\n",
        "    ## criando coluna de classe e de área\n",
        "    df = df.melt(var_name=\"classe\", value_name=\"area_km2\")\n",
        "    df['perc_area'] = df['area_km2'] / df['area_km2'].sum()\n",
        "    df['ano'] = ano\n",
        "\n",
        "    ## criando coluna com nome das classes de uso do solo\n",
        "    df['classe'] = df['classe'].apply(lambda x: x.replace('Class_','')).astype(int) #limpando a coluna de classe\n",
        "    df['nome_classe'] = df['classe']\n",
        "    df['nome_classe'].replace(dicionario_classes, inplace = True)\n",
        "    df = df.sort_values(by='perc_area', ascending=False)\n",
        "\n",
        "    ## adiciona o df limpo à lista\n",
        "    df_list.append(df)\n",
        "\n",
        "## cria um dataframe completo\n",
        "df_completo = pd.concat(df_list, axis = 0)\n",
        "\n",
        "## observa o formato do df completo\n",
        "df_completo.head()"
      ],
      "metadata": {
        "id": "RzQ-Hyk3jJj7"
      },
      "execution_count": null,
      "outputs": []
    },
    {
      "cell_type": "code",
      "source": [
        "## Plot geral - evolução do uso do solo\n",
        "plot = (\n",
        "    ggplot(df_completo, aes(x = 'ano', y = 'perc_area', color = 'reorder(nome_classe,perc_area, ascending = False)'))\n",
        "    + geom_line()\n",
        "    + scale_color_manual(values = paleta_nomes)\n",
        "    + scale_y_continuous(labels = percent_format(), expand = (0,0,0,0))\n",
        "    + labs(x = 'Anos', y = 'Percentual de área da região de interesse', color = 'Classe de uso do solo', title = f'Evolução do uso de solo na área de interesse entre {anos_list[0]} e {anos_list[-1]}\\nColeção 7.0 - MAPBIOMAS')\n",
        "    + theme_minimal()\n",
        "    #+ facet_wrap('nome_classe', ncol = 1, scales = 'free_y')\n",
        "    + theme(figure_size = (8,8), text = element_text(family = 'sans-serif'))\n",
        ")\n",
        "plot"
      ],
      "metadata": {
        "id": "paYaGkKlsq0i"
      },
      "execution_count": null,
      "outputs": []
    },
    {
      "cell_type": "code",
      "source": [
        "## Plot geral - evolução do uso do solo com visualização da tendência de cada grupo\n",
        "plot = (\n",
        "    ggplot(df_completo, aes(x = 'ano', y = 'perc_area', color = 'reorder(nome_classe,perc_area, ascending = False)'))\n",
        "    + geom_line()\n",
        "    + scale_color_manual(values = paleta_nomes)\n",
        "    + scale_y_continuous(labels = percent_format(), expand = (0,0,0,0))\n",
        "    + labs(x = 'Anos', y = 'Percentual de área da região de interesse (escala variável entre as classes!)', color = 'Classe de uso do solo', title = f'Evolução do uso de solo na área de interesse entre {anos_list[0]} e {anos_list[-1]}\\nColeção 7.0 - MAPBIOMAS')\n",
        "    + theme_bw()\n",
        "    + facet_wrap('nome_classe', ncol = 1, scales = 'free_y')\n",
        "    + theme(figure_size = (8,20), legend_position = 'none')\n",
        ")\n",
        "plot"
      ],
      "metadata": {
        "id": "uFE8_kpdmxOW"
      },
      "execution_count": null,
      "outputs": []
    },
    {
      "cell_type": "code",
      "source": [
        "%%capture\n",
        "\n",
        "## a função %%capture faz com que não haja outputs sendo printados a cada exportação de gráfico\n",
        "\n",
        "## plot de barras para cada ano\n",
        "\n",
        "for df, ano in zip(df_list, anos_list):\n",
        "  ## plotando com plotnine\n",
        "  p = (\n",
        "      ggplot(df, aes(y = 'perc_area', x = 'reorder(nome_classe, perc_area)', fill = 'nome_classe'))\n",
        "      + coord_flip()\n",
        "      + geom_bar(stat = 'identity')\n",
        "      + scale_fill_manual(values = paleta_nomes)\n",
        "      + scale_y_continuous(labels = percent_format(), expand = (0,0,0,0.05), breaks = (0,0.10,0.20,0.30,0.40,0.50), limits = (0,0.55))\n",
        "      + geom_text(aes(label = 'perc_area*100'), size = 10, position = position_nudge(0,0.04),format_string=\"{:,.2f}%\")\n",
        "      + labs(x = '', y = 'Percentual de área (%)',  title = 'Classes de uso de solo na área de interesse em {}\\nColeção 7.0 MAPBIOMAS'.format(ano))\n",
        "      + theme_minimal()\n",
        "      + theme(legend_position = 'none', figure_size = (5,4))\n",
        "  )\n",
        "\n",
        "  ## exportando figura \n",
        "  ggsave(plot=p, filename='/content/drive/MyDrive/SACRE/SIG/Landcover/PercentPlot/fig_percent_lc_{}.png'.format(ano), dpi=500)"
      ],
      "metadata": {
        "id": "kNcyq-juzdoH"
      },
      "execution_count": 65,
      "outputs": []
    },
    {
      "cell_type": "markdown",
      "source": [
        "## 3. Visualização da imagem de uso do solo"
      ],
      "metadata": {
        "id": "vY-hx8Dk3GlK"
      }
    },
    {
      "cell_type": "code",
      "source": [
        "area_estudo = ee.FeatureCollection(area_estudo)\n",
        "\n",
        "for im, ano in zip(lista_ee_images, anos_list):\n",
        "\n",
        "  clip = im.clipToCollection(area_estudo)  # recorta a imagem com o limite da área de estudo\n",
        "\n",
        "  ## exporta o resultado\n",
        "  region = area_estudo.geometry()\n",
        "  scale = 50\n",
        "  folder = r'content//drive//MyDrive//SACRE//SIG//Landcover//Rasters'\n",
        "  img_name = 'lc_img_{}'.format(ano)\n",
        "\n",
        "  export_config = {'scale': scale, 'maxPixels': 1.0E13, 'driveFolder': folder, 'region': region}\n",
        "\n",
        "  task = ee.batch.Export.image(clip, img_name, export_config)\n",
        "  task.start()"
      ],
      "metadata": {
        "id": "Y9TiDPFL_uvZ"
      },
      "execution_count": 29,
      "outputs": []
    },
    {
      "cell_type": "code",
      "source": [
        "## definindo função para recodificar o raster para a adequada visualização\n",
        "\n",
        "def replace_with_dict(ar, dic):\n",
        "    # Extrai chaves e valores\n",
        "    k = np.array(list(dic.keys()))\n",
        "    v = np.array(list(dic.values()))\n",
        "\n",
        "    # Pega argsort indices\n",
        "    sidx = k.argsort()\n",
        "    \n",
        "    ks = k[sidx]\n",
        "    vs = v[sidx]\n",
        "    return vs[np.searchsorted(ks,ar)]"
      ],
      "metadata": {
        "id": "4GeXXpo-SLYp"
      },
      "execution_count": 32,
      "outputs": []
    },
    {
      "cell_type": "code",
      "source": [
        "%%capture \n",
        "\n",
        "## define caminho dos rasters\n",
        "path = '/content/drive/MyDrive/SACRE/SIG/Landcover/Rasters'\n",
        "raster_files = glob.glob(os.path.join(path, '*.tif'))\n",
        "raster_files = sorted(raster_files)\n",
        "\n",
        "## cria visualização para cada raster\n",
        "for raster, ano in zip(raster_files, anos_list):\n",
        "  ds = gdal.Open(raster)\n",
        "  myarray = np.array(ds.GetRasterBand(1).ReadAsArray())\n",
        "\n",
        "  ## recodifica valores\n",
        "  vals = list(np.unique(myarray))\n",
        "  recode_vals = list(range(1,len(vals) + 1))\n",
        "  translate_vals = {val:recode for val, recode in zip(vals, recode_vals)}\n",
        "  recoded_array = replace_with_dict(myarray, translate_vals)\n",
        "\n",
        "  ## dicionario de cores para a paleta\n",
        "  vals = list(np.unique(myarray))\n",
        "  col_dict = {key: dicionario_cores[key] for key in vals}\n",
        "  col_dict_recoded = {num:col for num, col in zip(recode_vals, list(col_dict.values()))}\n",
        "\n",
        "  ## colormap a partir da lista de cores\n",
        "  cm = ListedColormap([col_dict_recoded[x] for x in col_dict_recoded.keys()])\n",
        "\n",
        "  ## descrição de cada categoria\n",
        "  labels_dict = {key: dicionario_classes[key] for key in vals}\n",
        "  labels = list(labels_dict.values())\n",
        "  len_lab = len(labels)\n",
        "\n",
        "  # normalizer\n",
        "  ## prepara caixas para o normalizer\n",
        "  norm_bins = np.sort([*col_dict_recoded.keys()]) + 0.5\n",
        "  norm_bins = np.insert(norm_bins, 0, np.min(norm_bins) - 1.0)\n",
        "  print(norm_bins)\n",
        "\n",
        "  ## cria o normalizer e o formatter\n",
        "  norm = matplotlib.colors.BoundaryNorm(norm_bins, len_lab, clip=True)\n",
        "  fmt = matplotlib.ticker.FuncFormatter(lambda x, pos: labels[norm(x)])\n",
        "\n",
        "  ## plotando\n",
        "  fig, ax = plt.subplots()\n",
        "  ax.set(xlabel=None, ylabel = None)\n",
        "  ax.grid(False)\n",
        "  ax.axis('off')\n",
        "  fig.set_size_inches(11,7, forward = True)\n",
        "\n",
        "  ## alinhando\n",
        "  gs = GridSpec(1, 3, width_ratios=[1, 25, 1])\n",
        "  plt_ax = fig.add_subplot(gs[1])\n",
        "  plt_ax.set(xlabel=None, ylabel = None)\n",
        "  im = plt_ax.imshow(recoded_array, cmap = cm, norm = norm) ## função de plotagem\n",
        "\n",
        "  plt.title('Classes de uso do solo na área de estudo\\nem {} (Coleção 7.0 MAPBIOMAS)'.format(ano), fontsize = 15) ## título\n",
        "  plt.axis('off')\n",
        "  plt.grid(False)\n",
        "\n",
        "  ## legenda\n",
        "  diff = norm_bins[1:] - norm_bins[:-1]\n",
        "  tickz = norm_bins[:-1] + diff / 2\n",
        "  cb = fig.colorbar(im, format=fmt, ticks=tickz)\n",
        "\n",
        "  ## exportando\n",
        "  fig.savefig(\"/content/drive/MyDrive/SACRE/SIG/Landcover/RastersPlot/landcover_fig_{}.png\".format(ano), dpi = 500)"
      ],
      "metadata": {
        "id": "FnYLE3v6h7g6"
      },
      "execution_count": 55,
      "outputs": []
    },
    {
      "cell_type": "markdown",
      "source": [
        "## 4. Montando o GIF"
      ],
      "metadata": {
        "id": "Zt8YoO643Lrf"
      }
    },
    {
      "cell_type": "code",
      "source": [
        "## definindo uma função para concatenar horizontalmente imagens de diferentes alturas\n",
        "\n",
        "def hconcat_resize(img_list, \n",
        "                   interpolation \n",
        "                   = cv2.INTER_CUBIC):\n",
        "      # pega altura mínima\n",
        "    h_min = min(img.shape[0] for img in img_list)\n",
        "      \n",
        "    # formatando imagens\n",
        "    im_list_resize = [cv2.resize(img,(int(img.shape[1] * h_min / img.shape[0]), h_min), interpolation = interpolation) for img in img_list]\n",
        "      \n",
        "    # retorna a imagem final concatenada\n",
        "    return cv2.hconcat(im_list_resize)"
      ],
      "metadata": {
        "id": "5w0mgW6MRTJJ"
      },
      "execution_count": 56,
      "outputs": []
    },
    {
      "cell_type": "code",
      "source": [
        "## combina imagens\n",
        "for ano in anos_list:\n",
        "  img1 = cv2.imread('/content/drive/MyDrive/SACRE/SIG/Landcover/PercentPlot/fig_percent_lc_{}.png'.format(ano))\n",
        "  img2 = cv2.imread('/content/drive/MyDrive/SACRE/SIG/Landcover/RastersPlot/landcover_fig_{}.png'.format(ano))\n",
        "\n",
        "    # chama a função definida anterioremente\n",
        "  img_h_resize = hconcat_resize([img2, img1])\n",
        "      \n",
        "    # salva o output\n",
        "  cv2.imwrite('/content/drive/MyDrive/SACRE/SIG/Landcover/JoinPlot/join_plot_{}.png'.format(ano), img_h_resize)"
      ],
      "metadata": {
        "id": "oUK0nRu5MfZR"
      },
      "execution_count": 66,
      "outputs": []
    },
    {
      "cell_type": "code",
      "source": [
        "## cria os frames do GIF\n",
        "frames = []\n",
        "\n",
        "for ano in anos_list:\n",
        "  image = imageio.imread(f'/content/drive/MyDrive/SACRE/SIG/Landcover/JoinPlot/join_plot_{ano}.png')\n",
        "  frames.append(image)"
      ],
      "metadata": {
        "id": "W7cUgQkvSTTj"
      },
      "execution_count": 67,
      "outputs": []
    },
    {
      "cell_type": "code",
      "source": [
        "## combina os frames e gera o GIF\n",
        "imageio.mimsave('/content/drive/MyDrive/SACRE/SIG/Landcover/gif_final.gif', # output gif\n",
        "                frames,          # frames\n",
        "                fps = 0.75)         # frames por segundo (\"velocidade do gif\")"
      ],
      "metadata": {
        "id": "YsjVPBL2TTJ0"
      },
      "execution_count": 68,
      "outputs": []
    }
  ]
}