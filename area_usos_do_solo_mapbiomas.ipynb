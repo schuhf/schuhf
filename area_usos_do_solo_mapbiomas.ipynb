{
 "cells": [
  {
   "cell_type": "markdown",
   "id": "9d5303f1",
   "metadata": {},
   "source": [
    "# Cálculo do percentual dos usos do solo em um polígono usando geemap\n",
    "## Dados: MAPBIOMAS Coleção 5 (acesso através de https://mapbiomas.org/google-earth-engine)"
   ]
  },
  {
   "cell_type": "code",
   "execution_count": 3,
   "id": "23b51160",
   "metadata": {},
   "outputs": [],
   "source": [
    "### Carregando as bibliotecas\n",
    "import os\n",
    "import ee\n",
    "import geemap\n",
    "import geopandas"
   ]
  },
  {
   "cell_type": "code",
   "execution_count": 20,
   "id": "44507341",
   "metadata": {},
   "outputs": [
    {
     "data": {
      "application/vnd.jupyter.widget-view+json": {
       "model_id": "d3d295abc29f4c8cade6705f203a1caa",
       "version_major": 2,
       "version_minor": 0
      },
      "text/plain": [
       "Map(center=[40, -100], controls=(WidgetControl(options=['position', 'transparent_bg'], widget=HBox(children=(T…"
      ]
     },
     "metadata": {},
     "output_type": "display_data"
    }
   ],
   "source": [
    "### Criar um mapa base\n",
    "Map = geemap.Map()\n",
    "\n",
    "Map"
   ]
  },
  {
   "cell_type": "code",
   "execution_count": 23,
   "id": "c23c173f",
   "metadata": {},
   "outputs": [
    {
     "data": {
      "application/vnd.jupyter.widget-view+json": {
       "model_id": "d3d295abc29f4c8cade6705f203a1caa",
       "version_major": 2,
       "version_minor": 0
      },
      "text/plain": [
       "Map(bottom=19740.0, center=[-31.80289258670676, -57.96936035156251], controls=(WidgetControl(options=['positio…"
      ]
     },
     "metadata": {},
     "output_type": "display_data"
    }
   ],
   "source": [
    "### Abrindo os dados do MapBiomas (Coleção 5 ano 2019)\n",
    "colecao_5_2019 = ee.Image('projects/mapbiomas-workspace/public/collection5/mapbiomas_collection50_integration_v1').select('classification_2019')\n",
    "\n",
    "Map.addLayer(colecao_5_2019, {}, \"Usos do Solo\")\n",
    "Map"
   ]
  },
  {
   "cell_type": "code",
   "execution_count": 14,
   "id": "be38a509",
   "metadata": {},
   "outputs": [
    {
     "data": {
      "application/vnd.jupyter.widget-view+json": {
       "model_id": "f3730702ef9249648d2df7f8910dbbda",
       "version_major": 2,
       "version_minor": 0
      },
      "text/plain": [
       "Map(bottom=19247.0, center=[-27.08847315655588, -50.00427246093751], controls=(WidgetControl(options=['positio…"
      ]
     },
     "metadata": {},
     "output_type": "display_data"
    }
   ],
   "source": [
    "### Inserindo o shapefile\n",
    "### O shapefile é um exemplo, altere para o caminho do seu shapefile\n",
    "shape_bacia = geemap.shp_to_ee('C:/Users/frori/Documents/UFRGS/Hidrologia II/Area 2/T2/BACIA_PONTO_BARRAGEM.shp')\n",
    "Map.addLayer(shape_bacia, {}, 'Bacia de interesse')\n",
    "\n",
    "Map"
   ]
  },
  {
   "cell_type": "code",
   "execution_count": 15,
   "id": "9289c749",
   "metadata": {},
   "outputs": [
    {
     "name": "stdout",
     "output_type": "stream",
     "text": [
      "Computing ... \n",
      "Generating URL ...\n",
      "Downloading data from https://earthengine.googleapis.com/v1alpha/projects/earthengine-legacy/tables/2a1d90c39d2d4c3828686c3adfd96834-6b8f63cf6a54505bf2528a2f8b73aaa1:getFeatures\n",
      "Please wait ...\n",
      "Data downloaded to C:\\Users\\frori\\Downloads\\area_de_interesse_stats.csv\n"
     ]
    }
   ],
   "source": [
    "## Extraindo os dados pelo shape\n",
    "out_dir = os.path.expanduser('~/Downloads')\n",
    "area_de_interesse_stats = os.path.join(out_dir, 'area_de_interesse_stats.csv')\n",
    "\n",
    "if not os.path.exists(out_dir):\n",
    "    os.makedirs(out_dir)\n",
    "    \n",
    "### Calculando a área em km²\n",
    "geemap.zonal_statistics_by_group(colecao_5_2019, shape_bacia, area_de_interesse_stats, statistics_type = 'SUM', denominator = 1000000, decimal_places = 2)"
   ]
  },
  {
   "cell_type": "code",
   "execution_count": 16,
   "id": "25663055",
   "metadata": {},
   "outputs": [
    {
     "name": "stdout",
     "output_type": "stream",
     "text": [
      "   id    classe  area_km2  perc_area\n",
      "0   1  Class_41      7.87  11.053371\n",
      "1   1   Class_3     34.92  49.044944\n",
      "2   1  Class_21      6.61   9.283708\n",
      "3   1   Class_9     10.13  14.227528\n",
      "4   1  Class_15     10.48  14.719101\n",
      "5   1  Class_39      1.19   1.671348\n"
     ]
    }
   ],
   "source": [
    "### Trabalhando com os dados\n",
    "import pandas as pd\n",
    "\n",
    "zonal_stats = pd.read_csv('area_de_interesse_stats.csv')\n",
    "\n",
    "zonal_stats = zonal_stats.drop('Class_sum', axis = 1)\n",
    "filter_col_class = [col for col in zonal_stats if col.startswith('Class')]\n",
    "\n",
    "zonal_stats = zonal_stats[filter_col_class]\n",
    "\n",
    "zonal_stats[\"id\"] = zonal_stats.index + 1\n",
    "stats_long = zonal_stats.melt(id_vars=\"id\", \n",
    "        var_name=\"classe\", \n",
    "        value_name=\"area_km2\")\n",
    "\n",
    "stats_long['perc_area'] = 100 * stats_long['area_km2'] / stats_long['area_km2'].sum()\n",
    "\n",
    "print(stats_long.head(10))"
   ]
  },
  {
   "cell_type": "code",
   "execution_count": 17,
   "id": "21b1722e",
   "metadata": {},
   "outputs": [
    {
     "name": "stdout",
     "output_type": "stream",
     "text": [
      "   id    classe  area_km2  perc_area                        nome_classe\n",
      "1   1   Class_3     34.92  49.044944                 Formação Florestal\n",
      "4   1  Class_15     10.48  14.719101                           Pastagem\n",
      "3   1   Class_9     10.13  14.227528                  Floresta Plantada\n",
      "0   1  Class_41      7.87  11.053371        Outras Lavouras Temporárias\n",
      "2   1  Class_21      6.61   9.283708  Mosaico de Agricultura e Pastagem\n",
      "5   1  Class_39      1.19   1.671348                               Soja\n"
     ]
    }
   ],
   "source": [
    "### Inserção do nome da classe\n",
    "dicionario_classes = {\n",
    "    \"Class_1\":\"Floresta\",\n",
    "    \"Class_2\":\"Floresta Natural\",\n",
    "    \"Class_3\":\"Formação Florestal\",\n",
    "    \"Class_4\":\"Formação Savânica\",\n",
    "    \"Class_5\":\"Mangue\",\n",
    "    \"Class_9\":\"Floresta Plantada\",\n",
    "    \"Class_10\":\"Formação Natural não Florestal\",\n",
    "    \"Class_11\":\"Campo Alagado e Área Pantanosa\",\n",
    "    \"Class_12\":\"Formação Campestre\",\n",
    "    \"Class_32\":\"Apicum\",\n",
    "    \"Class_29\":\"Afloramento Rochoso\",\n",
    "    \"Class_13\":\"Outras Formações não Florestais\",\n",
    "    \"Class_14\":\"Agropecuária\",\n",
    "    \"Class_15\":\"Pastagem\",\n",
    "    \"Class_18\":\"Agricultura\",\n",
    "    \"Class_19\":\"Lavoura Temporária\",\n",
    "    \"Class_39\":\"Soja\",\n",
    "    \"Class_20\":\"Cana\",\n",
    "    \"Class_41\":\"Outras Lavouras Temporárias\",\n",
    "    \"Class_36\":\"Lavoura Perene\",\n",
    "    \"Class_21\":\"Mosaico de Agricultura e Pastagem\",\n",
    "    \"Class_22\":\"Área não Vegetada\",\n",
    "    \"Class_23\":\"Praia e Duna\",\n",
    "    \"Class_24\":\"Infraestrutura Urbana\",\n",
    "    \"Class_30\":\"Mineração\",\n",
    "    \"Class_25\":\"Outras Áreas não Vegetadas\",\n",
    "    \"Class_26\":\"Corpos D'água\",\n",
    "    \"Class_33\":\"Rio, Lago e Oceano\",\n",
    "    \"Class_31\":\"Aquicultura\",\n",
    "    \"Class_27\":\"Não Observado\"\n",
    "}\n",
    "\n",
    "stats_long['nome_classe'] = stats_long['classe']\n",
    "stats_long['nome_classe'].replace(dicionario_classes, inplace = True)\n",
    "stats_long = stats_long.sort_values(by='perc_area', ascending=False)\n",
    "\n",
    "print(stats_long.head(10))\n"
   ]
  },
  {
   "cell_type": "code",
   "execution_count": 18,
   "id": "7db6cb99",
   "metadata": {},
   "outputs": [],
   "source": [
    "### Inserção das cores de legenda\n",
    "dicionario_cores = {\n",
    "    \"Class_1\":\"#129912\",\n",
    "    \"Class_2\":\"#1F4423\",\n",
    "    \"Class_3\":\"#006400\",\n",
    "    \"Class_4\":\"#00ff00\",\n",
    "    \"Class_5\":\"#687537\",\n",
    "    \"Class_9\":\"#935132\",\n",
    "    \"Class_10\":\"#BBFCAC\",\n",
    "    \"Class_11\":\"#45C2A5\",\n",
    "    \"Class_12\":\"#B8AF4F\",\n",
    "    \"Class_32\":\"#968c46\",\n",
    "    \"Class_29\":\"#b2ae7c\",\n",
    "    \"Class_13\":\"#f1c232\",\n",
    "    \"Class_14\":\"#FFFFB2\",\n",
    "    \"Class_15\":\"#FFD966\",\n",
    "    \"Class_18\":\"#E974ED\",\n",
    "    \"Class_19\":\"#D5A6BD\",\n",
    "    \"Class_39\":\"#c59ff4\",\n",
    "    \"Class_20\":\"#C27BA0\",\n",
    "    \"Class_41\":\"#e787f8\",\n",
    "    \"Class_36\":\"#f3b4f1\",\n",
    "    \"Class_21\":\"#fff3bf\",\n",
    "    \"Class_22\":\"#EA9999\",\n",
    "    \"Class_23\":\"#DD7E6B\",\n",
    "    \"Class_24\":\"#aa0000\",\n",
    "    \"Class_30\":\"#af2a2a\",\n",
    "    \"Class_25\":\"#ff0000\",\n",
    "    \"Class_26\":\"#0000FF\",\n",
    "    \"Class_33\":\"#0000FF\",\n",
    "    \"Class_31\":\"#8a2be2\",\n",
    "    \"Class_27\":\"#D5D5E5\"\n",
    "}"
   ]
  },
  {
   "cell_type": "code",
   "execution_count": 19,
   "id": "0e21744b",
   "metadata": {},
   "outputs": [
    {
     "name": "stderr",
     "output_type": "stream",
     "text": [
      "<ipython-input-19-58198581dd81>:17: UserWarning: FixedFormatter should only be used together with FixedLocator\n",
      "  ax.set_xticklabels(x_value)\n"
     ]
    },
    {
     "data": {
      "image/png": "[encoded data removed]",
      "text/plain": [
       "<Figure size 576x288 with 1 Axes>"
      ]
     },
     "metadata": {
      "needs_background": "light"
     },
     "output_type": "display_data"
    }
   ],
   "source": [
    "### Visualização dos dados\n",
    "import matplotlib.pyplot as plt\n",
    "import seaborn as sns\n",
    "\n",
    "fig, ax = plt.subplots(figsize = (8, 4))\n",
    "p = sns.barplot(y = 'nome_classe',\n",
    "            x= 'perc_area',\n",
    "            data = stats_long,\n",
    "            hue = 'classe',\n",
    "            palette = dicionario_cores,\n",
    "            dodge = False)\n",
    "plt.title(\"Usos do Solo na Área de Interesse em 2019\")\n",
    "plt.ylabel(\"\")\n",
    "plt.xlabel(\"Percentual de área\")\n",
    "plt.legend([],[], frameon=False)\n",
    "x_value=['{:,.2f}'.format(x) + '%' for x in ax.get_xticks()]\n",
    "ax.set_xticklabels(x_value)\n",
    "plt.show()"
   ]
  }
 ],
 "metadata": {
  "gist": {
   "data": {
    "description": "MAPBIOMAS_EXTRAIR_AREA.ipynb",
    "public": true
   },
   "id": ""
  },
  "hide_input": false,
  "kernelspec": {
   "display_name": "Python 3",
   "language": "python",
   "name": "python3"
  },
  "language_info": {
   "codemirror_mode": {
    "name": "ipython",
    "version": 3
   },
   "file_extension": ".py",
   "mimetype": "text/x-python",
   "name": "python",
   "nbconvert_exporter": "python",
   "pygments_lexer": "ipython3",
   "version": "3.8.10"
  },
  "toc": {
   "base_numbering": 1,
   "nav_menu": {},
   "number_sections": true,
   "sideBar": true,
   "skip_h1_title": false,
   "title_cell": "Table of Contents",
   "title_sidebar": "Contents",
   "toc_cell": false,
   "toc_position": {},
   "toc_section_display": true,
   "toc_window_display": false
  },
  "varInspector": {
   "cols": {
    "lenName": 16,
    "lenType": 16,
    "lenVar": 40
   },
   "kernels_config": {
    "python": {
     "delete_cmd_postfix": "",
     "delete_cmd_prefix": "del ",
     "library": "var_list.py",
     "varRefreshCmd": "print(var_dic_list())"
    },
    "r": {
     "delete_cmd_postfix": ") ",
     "delete_cmd_prefix": "rm(",
     "library": "var_list.r",
     "varRefreshCmd": "cat(var_dic_list()) "
    }
   },
   "types_to_exclude": [
    "module",
    "function",
    "builtin_function_or_method",
    "instance",
    "_Feature"
   ],
   "window_display": false
  }
 },
 "nbformat": 4,
 "nbformat_minor": 5
}
