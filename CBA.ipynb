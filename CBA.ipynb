{
  "nbformat": 4,
  "nbformat_minor": 0,
  "metadata": {
    "colab": {
      "provenance": [],
      "authorship_tag": "ABX9TyOC3E/Du4HCGTzCs9vBG4KQ",
      "include_colab_link": true
    },
    "kernelspec": {
      "name": "python3",
      "display_name": "Python 3"
    },
    "language_info": {
      "name": "python"
    }
  },
  "cells": [
    {
      "cell_type": "markdown",
      "metadata": {
        "id": "view-in-github",
        "colab_type": "text"
      },
      "source": [
        "<a href=\"https://colab.research.google.com/github/schuhf/schuhf/blob/main/CBA.ipynb\" target=\"_parent\"><img src=\"https://colab.research.google.com/assets/colab-badge.svg\" alt=\"Open In Colab\"/></a>"
      ]
    },
    {
      "cell_type": "code",
      "source": [
        "# Import packages\n",
        "import pandas as pd\n",
        "import numpy as np\n",
        "import matplotlib.pyplot as plt\n",
        "import plotnine"
      ],
      "metadata": {
        "id": "P-IiMKTt4Ufw"
      },
      "execution_count": null,
      "outputs": []
    },
    {
      "cell_type": "code",
      "execution_count": null,
      "metadata": {
        "colab": {
          "base_uri": "https://localhost:8080/"
        },
        "id": "6JUKWll23h1w",
        "outputId": "846ed5d9-9169-47be-9d7a-9c5d5ef71586"
      },
      "outputs": [
        {
          "output_type": "stream",
          "name": "stdout",
          "text": [
            "Mounted at /content/drive\n"
          ]
        }
      ],
      "source": [
        "# Connect to Google Drive\n",
        "from google.colab import drive\n",
        "drive.mount('/content/drive', force_remount = True)"
      ]
    },
    {
      "cell_type": "code",
      "source": [
        "# Import the data from Google Drive\n",
        "cba_data = pd.read_csv('/content/drive/MyDrive/Hydroeconomic Course/data_cba.csv', sep = ';', encoding=\"utf8\")\n",
        "\n",
        "## Cleaning data\n",
        "cba_data = cba_data[['Year','Sector','Scenario 0','Scenario 1','Scenario 2','Scenario 3']] #select columns\n",
        "cba_data = cba_data.dropna() # drop missing lines (file structure)\n",
        "\n",
        "cba_data[['Scenario 0','Scenario 1','Scenario 2','Scenario 3']] = cba_data[['Scenario 0','Scenario 1','Scenario 2','Scenario 3']].apply(lambda x: x.replace(',','', regex = True).astype(float))\n",
        "\n",
        "## Discounting based on Scenario 0\n",
        "cba_data['Scenario 1'] = cba_data['Scenario 1'] - cba_data['Scenario 0']\n",
        "cba_data['Scenario 2'] = cba_data['Scenario 2'] - cba_data['Scenario 0']\n",
        "cba_data['Scenario 3'] = cba_data['Scenario 3'] - cba_data['Scenario 0']\n",
        "cba_data = cba_data.drop(['Scenario 0'], axis = 1)\n",
        "\n",
        "## Melting based on scenario\n",
        "cba_data_m = pd.melt(cba_data, id_vars = ['Year','Sector'], value_vars = [ 'Scenario 1', 'Scenario 2', 'Scenario 3'], var_name = 'Scenario', value_name = 'Net_Benefit')\n"
      ],
      "metadata": {
        "id": "mnxkNU7C4L1u"
      },
      "execution_count": null,
      "outputs": []
    },
    {
      "cell_type": "code",
      "source": [
        "## Sensitivity Analysis (PLOTS)\n",
        "from plotnine import *\n",
        "\n",
        "cba_data_s = cba_data_m\n",
        "\n",
        "## Create base df for Present Value\n",
        "n = np.arange(0,31,1, dtype = int)\n",
        "years = np.arange(2020,2051,1, dtype = int)\n",
        "df_rate = pd.DataFrame(np.column_stack((n, years)), columns = ['n','Year'])\n",
        "\n",
        "## Merge\n",
        "cba_data_s = cba_data_s.merge(df_rate, on = ['Year'], how = 'left')\n",
        "\n",
        "## Discount rate options\n",
        "drates = np.arange(-1,11,1, dtype = int)\n",
        "\n",
        "## Loop over to save plots\n",
        "for r in drates:\n",
        "  \n",
        "  cba_data_s['rate_n'] = np.power(float(1 + (r/100)), cba_data_s['n'])\n",
        "  cba_data_s['Present_Value'] = cba_data_s['Net_Benefit'] / cba_data_s['rate_n']\n",
        "\n",
        "  grouped_df = cba_data_s.groupby(['Sector','Scenario']).Present_Value.sum().reset_index()\n",
        "  grouped_df['Scenario'] = grouped_df['Scenario'].replace('Scenario ','', regex = True)\n",
        "  grouped_df['PV_Thousands'] = np.round((grouped_df['Present_Value'] / 1000), 1)  \n",
        "\n",
        "  fig, plot = ( plotnine.ggplot(grouped_df) # data\n",
        "    + aes(x = 'Scenario', y = 'PV_Thousands', fill = 'Scenario')\n",
        "    + geom_bar(stat = 'identity')\n",
        "    + geom_text(aes(label = 'PV_Thousands'), size = 7)\n",
        "    + facet_wrap('Sector', ncol = 2)\n",
        "    + scale_y_continuous(limits = (-250,1500))\n",
        "    + labs(x = 'Scenario and Sectors', y = 'Present Values ($ thousands)', title = str('Cost-Benefit Analysis (r = ' + str(r) + '%)'))\n",
        "    + theme_bw()\n",
        "    + theme(figure_size = (7,7))).draw(show=False, return_ggplot=True)\n",
        "  \n",
        "  fig.savefig(str('/content/drive/MyDrive/Hydroeconomic Course/CBA Results/Sectoral CBA Plots/' + str(r) + '.png'), dpi = 500)"
      ],
      "metadata": {
        "id": "-oVbjVtuZ9fx"
      },
      "execution_count": null,
      "outputs": []
    },
    {
      "cell_type": "code",
      "source": [
        "## Line Plot over Years\n",
        "## Sensitivity Analysis (PLOTS)\n",
        "from plotnine import *\n",
        "\n",
        "cba_data_s = cba_data_m\n",
        "\n",
        "## Create base df for Present Value\n",
        "n = np.arange(0,31,1, dtype = int)\n",
        "years = np.arange(2020,2051,1, dtype = int)\n",
        "df_rate = pd.DataFrame(np.column_stack((n, years)), columns = ['n','Year'])\n",
        "\n",
        "## Merge\n",
        "cba_data_s = cba_data_s.merge(df_rate, on = ['Year'], how = 'left')\n",
        "\n",
        "## Discount rate options\n",
        "drates = [0, 2, 4, 6 , 7, 8]\n",
        "\n",
        "## Loop over to save plots\n",
        "for r in drates:\n",
        "  \n",
        "  cba_data_s = cba_data_s[~cba_data_s['Sector'].isin(['Costs dam building'])]\n",
        "  cba_data_s['rate_n'] = np.power(float(1 + (r/100)), cba_data_s['n'])\n",
        "  cba_data_s['Present_Value'] = cba_data_s['Net_Benefit'] / cba_data_s['rate_n']\n",
        "\n",
        "  grouped_df = cba_data_s.groupby(['Sector','Scenario','Year']).Present_Value.sum().reset_index()\n",
        "  grouped_df['PV_Thousands'] = np.round((grouped_df['Present_Value'] / 1000), 1)  \n",
        "\n",
        "  fig, plot = ( plotnine.ggplot(grouped_df) # data\n",
        "    + aes(x = 'Year', y = 'PV_Thousands', color = 'Sector')\n",
        "    + geom_line()\n",
        "     + facet_wrap('Scenario', ncol = 1)\n",
        "    + labs(x = 'Sector', y = 'Present Values ($ thousands)', title = str('Present Values (r = ' + str(r) + '%)'))\n",
        "    + scale_x_continuous(expand = (0,0))\n",
        "    + theme_bw()\n",
        "    + theme(figure_size = (11, 8), legend_position = (0,0.5), legend_title = element_blank())).draw(show=False, return_ggplot=True)\n",
        "  \n",
        "  fig.savefig(str('/content/drive/MyDrive/Hydroeconomic Course/CBA Results/Line Plots/' + str(r) + ' line.png'), dpi = 500)\n"
      ],
      "metadata": {
        "id": "IMsoW222R92c"
      },
      "execution_count": null,
      "outputs": []
    },
    {
      "cell_type": "code",
      "source": [
        "## Stacked Bar Plot over Years\n",
        "## Sensitivity Analysis (PLOTS)\n",
        "from plotnine import *\n",
        "\n",
        "cba_data_s = cba_data_m\n",
        "\n",
        "## Create base df for Present Value\n",
        "n = np.arange(0,31,1, dtype = int)\n",
        "years = np.arange(2020,2051,1, dtype = int)\n",
        "df_rate = pd.DataFrame(np.column_stack((n, years)), columns = ['n','Year'])\n",
        "\n",
        "## Merge\n",
        "cba_data_s = cba_data_s.merge(df_rate, on = ['Year'], how = 'left')\n",
        "\n",
        "## Discount rate options\n",
        "drates = [0, 2, 4, 6 , 8]\n",
        "\n",
        "## Loop over to save plots\n",
        "for r in drates:\n",
        "  \n",
        "  cba_data_s = cba_data_s[~cba_data_s['Sector'].isin(['Costs dam building'])]\n",
        "  cba_data_s['rate_n'] = np.power(float(1 + (r/100)), cba_data_s['n'])\n",
        "  cba_data_s['Present_Value'] = cba_data_s['Net_Benefit'] / cba_data_s['rate_n']\n",
        "\n",
        "  grouped_df = cba_data_s.groupby(['Sector','Scenario','Year']).Present_Value.sum().reset_index()\n",
        "  grouped_df['PV_Thousands'] = np.round((grouped_df['Present_Value'] / 1000), 1)  \n",
        "\n",
        "  fig, plot = ( plotnine.ggplot(grouped_df) # data\n",
        "    + aes(x = 'Year', y = 'PV_Thousands', fill = 'Sector')\n",
        "    + geom_col()\n",
        "    + facet_wrap('Scenario', ncol = 1)\n",
        "    + labs(x = 'Year', y = 'Present Values ($ thousands)', title = str('Present Values (r = ' + str(r) + '%)'))\n",
        "    + theme_minimal()\n",
        "    + theme(figure_size = (16, 8))).draw(show=False, return_ggplot=True)\n",
        "  \n",
        "  fig.savefig(str('/content/drive/MyDrive/Hydroeconomic Course/CBA Results/Stacked Bar/' + str(r) + ' line.png'), dpi = 500)\n"
      ],
      "metadata": {
        "id": "NOCgj54b0CMg"
      },
      "execution_count": null,
      "outputs": []
    },
    {
      "cell_type": "code",
      "source": [
        "## Sensitivity Analysis (CBA) - WORK IN PROGRESS\n",
        "cba_data_s = cba_data_m\n",
        "## Create base df for Present Value\n",
        "n = np.arange(0,31,1, dtype = int)\n",
        "years = np.arange(2020,2051,1, dtype = int)\n",
        "df_rate = pd.DataFrame(np.column_stack((n, years)), columns = ['n','Year'])\n",
        "\n",
        "## Merge\n",
        "cba_data_s = cba_data_s.merge(df_rate, on = ['Year'], how = 'left')\n",
        "\n",
        "## Discount rate options\n",
        "drates = np.arange(-1,11,1, dtype = int)\n",
        "\n",
        "cba_list = list()\n",
        "\n",
        "## Loop over to save plots\n",
        "for r in drates:\n",
        "  \n",
        "  cba_data_s['rate_n'] = np.power(float(1 + (r/100)), cba_data_s['n'])\n",
        "  cba_data_s['Present_Value'] = cba_data_s['Net_Benefit'] / cba_data_s['rate_n']\n",
        "\n",
        "  costs = cba_data_s[cba_data_s['Sector'] == 'Costs dam building'].groupby(['Scenario']).Present_Value.sum().reset_index().rename(columns={'Present_Value': 'costs'})\n",
        "  benefits = cba_data_s[cba_data_s['Sector'] != 'Costs dam building'].groupby(['Scenario']).Present_Value.sum().reset_index().rename(columns={'Present_Value': 'benefits'})\n",
        "\n",
        "  c_b = costs.merge(benefits, on = 'Scenario', how = 'left')\n",
        "  c_b['npv'] = np.round(c_b['benefits'] - c_b['costs'],2)\n",
        "  c_b['b_c_ratio'] = np.round(c_b['benefits'] / c_b['costs'],2)\n",
        "  c_b['rate_selected'] = r\n",
        "\n",
        "  cba_list.append(c_b)"
      ],
      "metadata": {
        "id": "OdxwmnNbaHPP"
      },
      "execution_count": null,
      "outputs": []
    },
    {
      "cell_type": "code",
      "source": [
        "## Concatenate list of dataframes\n",
        "cba_list_concat = pd.concat(cba_list)\n",
        "cba_list_concat.to_csv('/content/drive/MyDrive/Hydroeconomic Course/CBA Results/cba_sensitivity.csv')"
      ],
      "metadata": {
        "id": "T4nK48Tek1HQ"
      },
      "execution_count": null,
      "outputs": []
    },
    {
      "cell_type": "code",
      "source": [
        "## Plot Results CBA Sensitivity - NPV\n",
        "from plotnine import *\n",
        "\n",
        "## Discount rate options\n",
        "drates = np.arange(-1,11,1, dtype = int)\n",
        "\n",
        "## Data processing\n",
        "cba_list_concat['npv_mil'] = np.round(cba_list_concat['npv'] / 1000 , 2)\n",
        "cba_list_concat['rate_text'] = cba_list_concat['rate_selected'].apply(str)\n",
        "cba_list_concat['rate_text'] = cba_list_concat['rate_text'].apply(lambda x: \"Disc. Rate: {}%\".format(x)).astype('category')\n",
        "ordered_list = [\"Disc. Rate: {}%\".format(r) for r in drates]\n",
        "cba_list_concat['rate_text'] = cba_list_concat['rate_text'].cat.reorder_categories(ordered_list)\n",
        "cba_list_concat['Scenario'] = cba_list_concat['Scenario'].replace('Scenario ','', regex = True)\n",
        "\n",
        "#Plotting\n",
        "fig, plot = ( plotnine.ggplot(cba_list_concat) # data\n",
        "    + aes(x = 'Scenario', y = 'npv_mil', fill = 'Scenario')\n",
        "    + geom_bar(stat = 'identity')\n",
        "    + geom_text(aes(label = 'npv_mil'), size = 8, color = 'black')\n",
        "    + facet_wrap('rate_text', ncol = 3)\n",
        "    + labs(x = 'Scenario', y = 'Net Present Benefits minus Costs ($ thousands)')\n",
        "    + scale_y_continuous(limits = (-250,1500))\n",
        "    + theme_bw()\n",
        "    + theme(figure_size=(10, 7))).draw(show=False, return_ggplot=True)\n",
        "    \n",
        "  \n",
        "fig.savefig(str('/content/drive/MyDrive/Hydroeconomic Course/CBA Results/npv_sensitivity.png'), dpi = 500)"
      ],
      "metadata": {
        "id": "jgoKfJJQlnEK"
      },
      "execution_count": null,
      "outputs": []
    },
    {
      "cell_type": "code",
      "source": [
        "## Plot Results CBA Sensitivity - BCR\n",
        "from plotnine import *\n",
        "\n",
        "cba_list_concat['npv_mil'] = np.round(cba_list_concat['npv'] / 1000 , 2)\n",
        "cba_list_concat['rate_text'] = cba_list_concat['rate_selected'].apply(str)\n",
        "cba_list_concat['rate_text'] = cba_list_concat['rate_text'].apply(lambda x: \"Disc. Rate: {}%\".format(x)).astype('category')\n",
        "ordered_list = [\"Disc. Rate: {}%\".format(r) for r in drates]\n",
        "cba_list_concat['rate_text'] = cba_list_concat['rate_text'].cat.reorder_categories(ordered_list)\n",
        "cba_list_concat['Scenario'] = cba_list_concat['Scenario'].replace('Scenario ','', regex = True)\n",
        "\n",
        "fig, plot = ( plotnine.ggplot(cba_list_concat) # data\n",
        "    + aes(x = 'Scenario', y = 'b_c_ratio', fill = 'Scenario')\n",
        "    + geom_bar(stat = 'identity')\n",
        "    + geom_text(aes(label = 'b_c_ratio'), size = 8, color = 'black')\n",
        "    + facet_wrap('rate_text', ncol = 3)\n",
        "    + labs(x = 'Scenario', y = 'Benefit - Cost Ratio (%)')\n",
        "    + scale_y_continuous()\n",
        "    + theme_bw()\n",
        "    + theme(figure_size=(10, 7))).draw(show=False, return_ggplot=True)\n",
        "    \n",
        "  \n",
        "fig.savefig(str('/content/drive/MyDrive/Hydroeconomic Course/CBA Results/cbr_sensitivity.png'), dpi = 500)"
      ],
      "metadata": {
        "id": "ayW8QVx6OYpp"
      },
      "execution_count": null,
      "outputs": []
    }
  ]
}